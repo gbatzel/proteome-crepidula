{
 "cells": [
  {
   "cell_type": "code",
   "execution_count": 1,
   "metadata": {},
   "outputs": [],
   "source": [
    "import pandas as pd"
   ]
  },
  {
   "cell_type": "code",
   "execution_count": 2,
   "metadata": {},
   "outputs": [],
   "source": [
    "left = pd.read_csv('concatenated_list.csv', index_col=0, header=0, sep=\",\")"
   ]
  },
  {
   "cell_type": "code",
   "execution_count": 3,
   "metadata": {},
   "outputs": [
    {
     "data": {
      "text/html": [
       "<div>\n",
       "<style scoped>\n",
       "    .dataframe tbody tr th:only-of-type {\n",
       "        vertical-align: middle;\n",
       "    }\n",
       "\n",
       "    .dataframe tbody tr th {\n",
       "        vertical-align: top;\n",
       "    }\n",
       "\n",
       "    .dataframe thead th {\n",
       "        text-align: right;\n",
       "    }\n",
       "</style>\n",
       "<table border=\"1\" class=\"dataframe\">\n",
       "  <thead>\n",
       "    <tr style=\"text-align: right;\">\n",
       "      <th></th>\n",
       "      <th>domain</th>\n",
       "    </tr>\n",
       "    <tr>\n",
       "      <th>transcript</th>\n",
       "      <th></th>\n",
       "    </tr>\n",
       "  </thead>\n",
       "  <tbody>\n",
       "    <tr>\n",
       "      <th>TRINITY_DN103288_c0_g1_i1.p1</th>\n",
       "      <td>Glutathione S-transferase N-terminal domain;</td>\n",
       "    </tr>\n",
       "    <tr>\n",
       "      <th>TRINITY_DN103717_c0_g2_i1.p1</th>\n",
       "      <td>Sigma-54 factor, core binding domain;</td>\n",
       "    </tr>\n",
       "    <tr>\n",
       "      <th>TRINITY_DN124947_c0_g1_i1.p1</th>\n",
       "      <td>Protein of unknown function (DUF3105);</td>\n",
       "    </tr>\n",
       "    <tr>\n",
       "      <th>TRINITY_DN125355_c0_g1_i1.p1</th>\n",
       "      <td>VHL beta domain; VHL box domain;</td>\n",
       "    </tr>\n",
       "    <tr>\n",
       "      <th>TRINITY_DN134774_c0_g1_i1.p1</th>\n",
       "      <td>Multicopper oxidase; Protein of unknown functi...</td>\n",
       "    </tr>\n",
       "  </tbody>\n",
       "</table>\n",
       "</div>"
      ],
      "text/plain": [
       "                                                                         domain\n",
       "transcript                                                                     \n",
       "TRINITY_DN103288_c0_g1_i1.p1      Glutathione S-transferase N-terminal domain; \n",
       "TRINITY_DN103717_c0_g2_i1.p1             Sigma-54 factor, core binding domain; \n",
       "TRINITY_DN124947_c0_g1_i1.p1            Protein of unknown function (DUF3105); \n",
       "TRINITY_DN125355_c0_g1_i1.p1                  VHL beta domain; VHL box domain; \n",
       "TRINITY_DN134774_c0_g1_i1.p1  Multicopper oxidase; Protein of unknown functi..."
      ]
     },
     "execution_count": 3,
     "metadata": {},
     "output_type": "execute_result"
    }
   ],
   "source": [
    "left.head()"
   ]
  },
  {
   "cell_type": "code",
   "execution_count": 4,
   "metadata": {},
   "outputs": [],
   "source": [
    "right = pd.read_csv('spp.txt', index_col=0, header=0, sep='\\t')"
   ]
  },
  {
   "cell_type": "code",
   "execution_count": 5,
   "metadata": {},
   "outputs": [
    {
     "data": {
      "text/html": [
       "<div>\n",
       "<style scoped>\n",
       "    .dataframe tbody tr th:only-of-type {\n",
       "        vertical-align: middle;\n",
       "    }\n",
       "\n",
       "    .dataframe tbody tr th {\n",
       "        vertical-align: top;\n",
       "    }\n",
       "\n",
       "    .dataframe thead th {\n",
       "        text-align: right;\n",
       "    }\n",
       "</style>\n",
       "<table border=\"1\" class=\"dataframe\">\n",
       "  <thead>\n",
       "    <tr style=\"text-align: right;\">\n",
       "      <th></th>\n",
       "      <th>secreted</th>\n",
       "      <th>start</th>\n",
       "      <th>end</th>\n",
       "      <th>score</th>\n",
       "    </tr>\n",
       "    <tr>\n",
       "      <th>transcript</th>\n",
       "      <th></th>\n",
       "      <th></th>\n",
       "      <th></th>\n",
       "      <th></th>\n",
       "    </tr>\n",
       "  </thead>\n",
       "  <tbody>\n",
       "    <tr>\n",
       "      <th>TRINITY_DN161858_c0_g9_i1.p2</th>\n",
       "      <td>SP</td>\n",
       "      <td>1</td>\n",
       "      <td>28</td>\n",
       "      <td>0.864</td>\n",
       "    </tr>\n",
       "    <tr>\n",
       "      <th>TRINITY_DN162560_c0_g1_i1.p2</th>\n",
       "      <td>SP</td>\n",
       "      <td>1</td>\n",
       "      <td>21</td>\n",
       "      <td>0.908</td>\n",
       "    </tr>\n",
       "    <tr>\n",
       "      <th>TRINITY_DN167621_c0_g1_i1.p24</th>\n",
       "      <td>SP</td>\n",
       "      <td>1</td>\n",
       "      <td>19</td>\n",
       "      <td>0.869</td>\n",
       "    </tr>\n",
       "    <tr>\n",
       "      <th>TRINITY_DN150011_c0_g2_i1.p1</th>\n",
       "      <td>SP</td>\n",
       "      <td>1</td>\n",
       "      <td>23</td>\n",
       "      <td>0.722</td>\n",
       "    </tr>\n",
       "    <tr>\n",
       "      <th>TRINITY_DN150011_c0_g2_i2.p2</th>\n",
       "      <td>SP</td>\n",
       "      <td>1</td>\n",
       "      <td>23</td>\n",
       "      <td>0.722</td>\n",
       "    </tr>\n",
       "  </tbody>\n",
       "</table>\n",
       "</div>"
      ],
      "text/plain": [
       "                              secreted  start  end  score\n",
       "transcript                                               \n",
       "TRINITY_DN161858_c0_g9_i1.p2        SP      1   28  0.864\n",
       "TRINITY_DN162560_c0_g1_i1.p2        SP      1   21  0.908\n",
       "TRINITY_DN167621_c0_g1_i1.p24       SP      1   19  0.869\n",
       "TRINITY_DN150011_c0_g2_i1.p1        SP      1   23  0.722\n",
       "TRINITY_DN150011_c0_g2_i2.p2        SP      1   23  0.722"
      ]
     },
     "execution_count": 5,
     "metadata": {},
     "output_type": "execute_result"
    }
   ],
   "source": [
    "right.head()"
   ]
  },
  {
   "cell_type": "code",
   "execution_count": 6,
   "metadata": {},
   "outputs": [],
   "source": [
    "right = right.reset_index()"
   ]
  },
  {
   "cell_type": "code",
   "execution_count": 7,
   "metadata": {},
   "outputs": [],
   "source": [
    "right2 = right[['transcript','secreted']]"
   ]
  },
  {
   "cell_type": "code",
   "execution_count": 15,
   "metadata": {},
   "outputs": [],
   "source": [
    "right2 = right2.set_index('transcript')"
   ]
  },
  {
   "cell_type": "code",
   "execution_count": 16,
   "metadata": {},
   "outputs": [],
   "source": [
    "df = left.join(right2, how='left')"
   ]
  },
  {
   "cell_type": "code",
   "execution_count": 18,
   "metadata": {},
   "outputs": [
    {
     "data": {
      "text/html": [
       "<div>\n",
       "<style scoped>\n",
       "    .dataframe tbody tr th:only-of-type {\n",
       "        vertical-align: middle;\n",
       "    }\n",
       "\n",
       "    .dataframe tbody tr th {\n",
       "        vertical-align: top;\n",
       "    }\n",
       "\n",
       "    .dataframe thead th {\n",
       "        text-align: right;\n",
       "    }\n",
       "</style>\n",
       "<table border=\"1\" class=\"dataframe\">\n",
       "  <thead>\n",
       "    <tr style=\"text-align: right;\">\n",
       "      <th></th>\n",
       "      <th>domain</th>\n",
       "      <th>secreted</th>\n",
       "    </tr>\n",
       "    <tr>\n",
       "      <th>transcript</th>\n",
       "      <th></th>\n",
       "      <th></th>\n",
       "    </tr>\n",
       "  </thead>\n",
       "  <tbody>\n",
       "    <tr>\n",
       "      <th>TRINITY_DN103288_c0_g1_i1.p1</th>\n",
       "      <td>Glutathione S-transferase N-terminal domain;</td>\n",
       "      <td>NaN</td>\n",
       "    </tr>\n",
       "    <tr>\n",
       "      <th>TRINITY_DN103717_c0_g2_i1.p1</th>\n",
       "      <td>Sigma-54 factor, core binding domain;</td>\n",
       "      <td>SP</td>\n",
       "    </tr>\n",
       "    <tr>\n",
       "      <th>TRINITY_DN124947_c0_g1_i1.p1</th>\n",
       "      <td>Protein of unknown function (DUF3105);</td>\n",
       "      <td>SP</td>\n",
       "    </tr>\n",
       "    <tr>\n",
       "      <th>TRINITY_DN125355_c0_g1_i1.p1</th>\n",
       "      <td>VHL beta domain; VHL box domain;</td>\n",
       "      <td>NaN</td>\n",
       "    </tr>\n",
       "    <tr>\n",
       "      <th>TRINITY_DN134774_c0_g1_i1.p1</th>\n",
       "      <td>Multicopper oxidase; Protein of unknown functi...</td>\n",
       "      <td>NaN</td>\n",
       "    </tr>\n",
       "  </tbody>\n",
       "</table>\n",
       "</div>"
      ],
      "text/plain": [
       "                                                                         domain  \\\n",
       "transcript                                                                        \n",
       "TRINITY_DN103288_c0_g1_i1.p1      Glutathione S-transferase N-terminal domain;    \n",
       "TRINITY_DN103717_c0_g2_i1.p1             Sigma-54 factor, core binding domain;    \n",
       "TRINITY_DN124947_c0_g1_i1.p1            Protein of unknown function (DUF3105);    \n",
       "TRINITY_DN125355_c0_g1_i1.p1                  VHL beta domain; VHL box domain;    \n",
       "TRINITY_DN134774_c0_g1_i1.p1  Multicopper oxidase; Protein of unknown functi...   \n",
       "\n",
       "                             secreted  \n",
       "transcript                             \n",
       "TRINITY_DN103288_c0_g1_i1.p1      NaN  \n",
       "TRINITY_DN103717_c0_g2_i1.p1       SP  \n",
       "TRINITY_DN124947_c0_g1_i1.p1       SP  \n",
       "TRINITY_DN125355_c0_g1_i1.p1      NaN  \n",
       "TRINITY_DN134774_c0_g1_i1.p1      NaN  "
      ]
     },
     "execution_count": 18,
     "metadata": {},
     "output_type": "execute_result"
    }
   ],
   "source": [
    "df.head()"
   ]
  },
  {
   "cell_type": "code",
   "execution_count": 19,
   "metadata": {},
   "outputs": [],
   "source": [
    "right_thmm = pd.read_csv('thmm.txt', index_col=0, header=0, sep='\\t')"
   ]
  },
  {
   "cell_type": "code",
   "execution_count": 20,
   "metadata": {},
   "outputs": [
    {
     "data": {
      "text/html": [
       "<div>\n",
       "<style scoped>\n",
       "    .dataframe tbody tr th:only-of-type {\n",
       "        vertical-align: middle;\n",
       "    }\n",
       "\n",
       "    .dataframe tbody tr th {\n",
       "        vertical-align: top;\n",
       "    }\n",
       "\n",
       "    .dataframe thead th {\n",
       "        text-align: right;\n",
       "    }\n",
       "</style>\n",
       "<table border=\"1\" class=\"dataframe\">\n",
       "  <thead>\n",
       "    <tr style=\"text-align: right;\">\n",
       "      <th></th>\n",
       "      <th>length</th>\n",
       "      <th>expectedaa</th>\n",
       "      <th>first60</th>\n",
       "      <th>tm</th>\n",
       "      <th>topology</th>\n",
       "    </tr>\n",
       "    <tr>\n",
       "      <th>transcript</th>\n",
       "      <th></th>\n",
       "      <th></th>\n",
       "      <th></th>\n",
       "      <th></th>\n",
       "      <th></th>\n",
       "    </tr>\n",
       "  </thead>\n",
       "  <tbody>\n",
       "    <tr>\n",
       "      <th>TRINITY_DN161858_c0_g9_i1.p1</th>\n",
       "      <td>len=99</td>\n",
       "      <td>ExpAA=0.00</td>\n",
       "      <td>First60=0.00</td>\n",
       "      <td>PredHel=0</td>\n",
       "      <td>Topology=o</td>\n",
       "    </tr>\n",
       "    <tr>\n",
       "      <th>TRINITY_DN161858_c0_g9_i1.p2</th>\n",
       "      <td>len=99</td>\n",
       "      <td>ExpAA=22.78</td>\n",
       "      <td>First60=22.77</td>\n",
       "      <td>PredHel=1</td>\n",
       "      <td>Topology=o15-37i</td>\n",
       "    </tr>\n",
       "    <tr>\n",
       "      <th>TRINITY_DN158789_c1_g2_i1.p3</th>\n",
       "      <td>len=99</td>\n",
       "      <td>ExpAA=0.00</td>\n",
       "      <td>First60=0.00</td>\n",
       "      <td>PredHel=0</td>\n",
       "      <td>Topology=o</td>\n",
       "    </tr>\n",
       "    <tr>\n",
       "      <th>TRINITY_DN161099_c1_g1_i1.p4</th>\n",
       "      <td>len=99</td>\n",
       "      <td>ExpAA=0.00</td>\n",
       "      <td>First60=0.00</td>\n",
       "      <td>PredHel=0</td>\n",
       "      <td>Topology=i</td>\n",
       "    </tr>\n",
       "    <tr>\n",
       "      <th>TRINITY_DN165940_c1_g4_i1.p4</th>\n",
       "      <td>len=99</td>\n",
       "      <td>ExpAA=8.58</td>\n",
       "      <td>First60=8.58</td>\n",
       "      <td>PredHel=0</td>\n",
       "      <td>Topology=o</td>\n",
       "    </tr>\n",
       "  </tbody>\n",
       "</table>\n",
       "</div>"
      ],
      "text/plain": [
       "                              length   expectedaa        first60         tm  \\\n",
       "transcript                                                                    \n",
       "TRINITY_DN161858_c0_g9_i1.p1  len=99   ExpAA=0.00   First60=0.00  PredHel=0   \n",
       "TRINITY_DN161858_c0_g9_i1.p2  len=99  ExpAA=22.78  First60=22.77  PredHel=1   \n",
       "TRINITY_DN158789_c1_g2_i1.p3  len=99   ExpAA=0.00   First60=0.00  PredHel=0   \n",
       "TRINITY_DN161099_c1_g1_i1.p4  len=99   ExpAA=0.00   First60=0.00  PredHel=0   \n",
       "TRINITY_DN165940_c1_g4_i1.p4  len=99   ExpAA=8.58   First60=8.58  PredHel=0   \n",
       "\n",
       "                                      topology  \n",
       "transcript                                      \n",
       "TRINITY_DN161858_c0_g9_i1.p1        Topology=o  \n",
       "TRINITY_DN161858_c0_g9_i1.p2  Topology=o15-37i  \n",
       "TRINITY_DN158789_c1_g2_i1.p3        Topology=o  \n",
       "TRINITY_DN161099_c1_g1_i1.p4        Topology=i  \n",
       "TRINITY_DN165940_c1_g4_i1.p4        Topology=o  "
      ]
     },
     "execution_count": 20,
     "metadata": {},
     "output_type": "execute_result"
    }
   ],
   "source": [
    "right_thmm.head()"
   ]
  },
  {
   "cell_type": "code",
   "execution_count": 22,
   "metadata": {},
   "outputs": [],
   "source": [
    "right_thmm = right_thmm.reset_index()"
   ]
  },
  {
   "cell_type": "code",
   "execution_count": 23,
   "metadata": {},
   "outputs": [],
   "source": [
    "right2_thmm = right_thmm[['transcript', 'tm']]"
   ]
  },
  {
   "cell_type": "code",
   "execution_count": 26,
   "metadata": {},
   "outputs": [],
   "source": [
    "right2_thmm = right2_thmm.set_index('transcript')"
   ]
  },
  {
   "cell_type": "code",
   "execution_count": 27,
   "metadata": {},
   "outputs": [],
   "source": [
    "df2 = df.join(right2_thmm, how='left')"
   ]
  },
  {
   "cell_type": "code",
   "execution_count": 32,
   "metadata": {},
   "outputs": [
    {
     "data": {
      "text/html": [
       "<div>\n",
       "<style scoped>\n",
       "    .dataframe tbody tr th:only-of-type {\n",
       "        vertical-align: middle;\n",
       "    }\n",
       "\n",
       "    .dataframe tbody tr th {\n",
       "        vertical-align: top;\n",
       "    }\n",
       "\n",
       "    .dataframe thead th {\n",
       "        text-align: right;\n",
       "    }\n",
       "</style>\n",
       "<table border=\"1\" class=\"dataframe\">\n",
       "  <thead>\n",
       "    <tr style=\"text-align: right;\">\n",
       "      <th></th>\n",
       "      <th>domain</th>\n",
       "      <th>secreted</th>\n",
       "      <th>tm</th>\n",
       "    </tr>\n",
       "    <tr>\n",
       "      <th>transcript</th>\n",
       "      <th></th>\n",
       "      <th></th>\n",
       "      <th></th>\n",
       "    </tr>\n",
       "  </thead>\n",
       "  <tbody>\n",
       "    <tr>\n",
       "      <th>TRINITY_DN103288_c0_g1_i1.p1</th>\n",
       "      <td>Glutathione S-transferase N-terminal domain;</td>\n",
       "      <td>NaN</td>\n",
       "      <td>PredHel=0</td>\n",
       "    </tr>\n",
       "    <tr>\n",
       "      <th>TRINITY_DN103717_c0_g2_i1.p1</th>\n",
       "      <td>Sigma-54 factor, core binding domain;</td>\n",
       "      <td>SP</td>\n",
       "      <td>PredHel=0</td>\n",
       "    </tr>\n",
       "    <tr>\n",
       "      <th>TRINITY_DN124947_c0_g1_i1.p1</th>\n",
       "      <td>Protein of unknown function (DUF3105);</td>\n",
       "      <td>SP</td>\n",
       "      <td>PredHel=0</td>\n",
       "    </tr>\n",
       "    <tr>\n",
       "      <th>TRINITY_DN125355_c0_g1_i1.p1</th>\n",
       "      <td>VHL beta domain; VHL box domain;</td>\n",
       "      <td>NaN</td>\n",
       "      <td>PredHel=0</td>\n",
       "    </tr>\n",
       "    <tr>\n",
       "      <th>TRINITY_DN134774_c0_g1_i1.p1</th>\n",
       "      <td>Multicopper oxidase; Protein of unknown functi...</td>\n",
       "      <td>NaN</td>\n",
       "      <td>PredHel=0</td>\n",
       "    </tr>\n",
       "    <tr>\n",
       "      <th>TRINITY_DN137920_c0_g2_i1.p1</th>\n",
       "      <td>Amiloride-sensitive sodium channel; Growth-arr...</td>\n",
       "      <td>NaN</td>\n",
       "      <td>PredHel=0</td>\n",
       "    </tr>\n",
       "    <tr>\n",
       "      <th>TRINITY_DN139314_c0_g1_i1.p1</th>\n",
       "      <td>Hr1 repeat; Protein kinase C terminal domain; ...</td>\n",
       "      <td>NaN</td>\n",
       "      <td>PredHel=0</td>\n",
       "    </tr>\n",
       "    <tr>\n",
       "      <th>TRINITY_DN140642_c0_g1_i1.p1</th>\n",
       "      <td>von Willebrand factor type C domain;</td>\n",
       "      <td>SP</td>\n",
       "      <td>PredHel=0</td>\n",
       "    </tr>\n",
       "    <tr>\n",
       "      <th>TRINITY_DN142301_c1_g1_i2.p1</th>\n",
       "      <td>Centrosome microtubule-binding domain of Cep57;</td>\n",
       "      <td>SP</td>\n",
       "      <td>PredHel=0</td>\n",
       "    </tr>\n",
       "    <tr>\n",
       "      <th>TRINITY_DN144106_c0_g1_i1.p1</th>\n",
       "      <td>Tail tubular protein; Down syndrome cell adhes...</td>\n",
       "      <td>SP</td>\n",
       "      <td>PredHel=1</td>\n",
       "    </tr>\n",
       "  </tbody>\n",
       "</table>\n",
       "</div>"
      ],
      "text/plain": [
       "                                                                         domain  \\\n",
       "transcript                                                                        \n",
       "TRINITY_DN103288_c0_g1_i1.p1      Glutathione S-transferase N-terminal domain;    \n",
       "TRINITY_DN103717_c0_g2_i1.p1             Sigma-54 factor, core binding domain;    \n",
       "TRINITY_DN124947_c0_g1_i1.p1            Protein of unknown function (DUF3105);    \n",
       "TRINITY_DN125355_c0_g1_i1.p1                  VHL beta domain; VHL box domain;    \n",
       "TRINITY_DN134774_c0_g1_i1.p1  Multicopper oxidase; Protein of unknown functi...   \n",
       "TRINITY_DN137920_c0_g2_i1.p1  Amiloride-sensitive sodium channel; Growth-arr...   \n",
       "TRINITY_DN139314_c0_g1_i1.p1  Hr1 repeat; Protein kinase C terminal domain; ...   \n",
       "TRINITY_DN140642_c0_g1_i1.p1              von Willebrand factor type C domain;    \n",
       "TRINITY_DN142301_c1_g1_i2.p1   Centrosome microtubule-binding domain of Cep57;    \n",
       "TRINITY_DN144106_c0_g1_i1.p1  Tail tubular protein; Down syndrome cell adhes...   \n",
       "\n",
       "                             secreted         tm  \n",
       "transcript                                        \n",
       "TRINITY_DN103288_c0_g1_i1.p1      NaN  PredHel=0  \n",
       "TRINITY_DN103717_c0_g2_i1.p1       SP  PredHel=0  \n",
       "TRINITY_DN124947_c0_g1_i1.p1       SP  PredHel=0  \n",
       "TRINITY_DN125355_c0_g1_i1.p1      NaN  PredHel=0  \n",
       "TRINITY_DN134774_c0_g1_i1.p1      NaN  PredHel=0  \n",
       "TRINITY_DN137920_c0_g2_i1.p1      NaN  PredHel=0  \n",
       "TRINITY_DN139314_c0_g1_i1.p1      NaN  PredHel=0  \n",
       "TRINITY_DN140642_c0_g1_i1.p1       SP  PredHel=0  \n",
       "TRINITY_DN142301_c1_g1_i2.p1       SP  PredHel=0  \n",
       "TRINITY_DN144106_c0_g1_i1.p1       SP  PredHel=1  "
      ]
     },
     "execution_count": 32,
     "metadata": {},
     "output_type": "execute_result"
    }
   ],
   "source": [
    "df2.head(10)"
   ]
  },
  {
   "cell_type": "code",
   "execution_count": 31,
   "metadata": {},
   "outputs": [
    {
     "data": {
      "text/html": [
       "<div>\n",
       "<style scoped>\n",
       "    .dataframe tbody tr th:only-of-type {\n",
       "        vertical-align: middle;\n",
       "    }\n",
       "\n",
       "    .dataframe tbody tr th {\n",
       "        vertical-align: top;\n",
       "    }\n",
       "\n",
       "    .dataframe thead th {\n",
       "        text-align: right;\n",
       "    }\n",
       "</style>\n",
       "<table border=\"1\" class=\"dataframe\">\n",
       "  <thead>\n",
       "    <tr style=\"text-align: right;\">\n",
       "      <th></th>\n",
       "      <th>domain</th>\n",
       "      <th>secreted</th>\n",
       "      <th>tm</th>\n",
       "    </tr>\n",
       "  </thead>\n",
       "  <tbody>\n",
       "    <tr>\n",
       "      <th>count</th>\n",
       "      <td>148</td>\n",
       "      <td>48</td>\n",
       "      <td>145</td>\n",
       "    </tr>\n",
       "    <tr>\n",
       "      <th>unique</th>\n",
       "      <td>148</td>\n",
       "      <td>1</td>\n",
       "      <td>5</td>\n",
       "    </tr>\n",
       "    <tr>\n",
       "      <th>top</th>\n",
       "      <td>Domain of unknown function (DUF4010);</td>\n",
       "      <td>SP</td>\n",
       "      <td>PredHel=0</td>\n",
       "    </tr>\n",
       "    <tr>\n",
       "      <th>freq</th>\n",
       "      <td>1</td>\n",
       "      <td>48</td>\n",
       "      <td>111</td>\n",
       "    </tr>\n",
       "  </tbody>\n",
       "</table>\n",
       "</div>"
      ],
      "text/plain": [
       "                                        domain secreted         tm\n",
       "count                                      148       48        145\n",
       "unique                                     148        1          5\n",
       "top     Domain of unknown function (DUF4010);        SP  PredHel=0\n",
       "freq                                         1       48        111"
      ]
     },
     "execution_count": 31,
     "metadata": {},
     "output_type": "execute_result"
    }
   ],
   "source": [
    "df2.describe()"
   ]
  },
  {
   "cell_type": "code",
   "execution_count": null,
   "metadata": {},
   "outputs": [],
   "source": []
  }
 ],
 "metadata": {
  "kernelspec": {
   "display_name": "Python 3",
   "language": "python",
   "name": "python3"
  },
  "language_info": {
   "codemirror_mode": {
    "name": "ipython",
    "version": 3
   },
   "file_extension": ".py",
   "mimetype": "text/x-python",
   "name": "python",
   "nbconvert_exporter": "python",
   "pygments_lexer": "ipython3",
   "version": "3.5.4"
  }
 },
 "nbformat": 4,
 "nbformat_minor": 2
}
