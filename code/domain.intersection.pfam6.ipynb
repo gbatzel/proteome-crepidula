{
 "cells": [
  {
   "cell_type": "code",
   "execution_count": 1,
   "metadata": {},
   "outputs": [],
   "source": [
    "import pandas as pd"
   ]
  },
  {
   "cell_type": "code",
   "execution_count": 2,
   "metadata": {},
   "outputs": [],
   "source": [
    "# load data\n",
    "echi = pd.read_csv('echi.uniq.txt', index_col=None, header=0, sep=\",\")\n",
    "brach = pd.read_csv('brach.uniq.txt', index_col=None, header=0, sep=\",\")\n",
    "cnid = pd.read_csv('cnid.uniq.txt', index_col=None, header=0, sep=\",\")\n",
    "moll = pd.read_csv('moll.uniq.txt', index_col=None, header=0, sep=\",\")\n",
    "vert = pd.read_csv('vert.uniq.txt', index_col=None, header=0, sep=\",\")"
   ]
  },
  {
   "cell_type": "code",
   "execution_count": 3,
   "metadata": {},
   "outputs": [],
   "source": [
    "# create lists from datasets\n",
    "echilist = echi['echi'].tolist()\n",
    "brachlist = brach['brach'].tolist()\n",
    "cnidlist = cnid['cnid'].tolist()\n",
    "molllist = moll['moll'].tolist()\n",
    "vertlist = vert['vert'].tolist()"
   ]
  },
  {
   "cell_type": "code",
   "execution_count": 4,
   "metadata": {},
   "outputs": [],
   "source": [
    "# create sets from lists\n",
    "e = set(echilist)\n",
    "b = set(brachlist)\n",
    "c = set(cnidlist)\n",
    "m = set(molllist)\n",
    "v = set(vertlist)"
   ]
  },
  {
   "cell_type": "code",
   "execution_count": 5,
   "metadata": {},
   "outputs": [],
   "source": [
    "# unique domains found in all five phyla\n",
    "AllPhyla = m.intersection(e,b,c,v)\n",
    "Muniq = m.difference(e,b,c,v)\n",
    "Cuniq = c.difference(e,b,m,v)\n",
    "Buniq = b.difference(e,m,c,v)\n",
    "Euniq = e.difference(b,m,c,v)\n",
    "Vuniq = v.difference(b,m,c,e)"
   ]
  },
  {
   "cell_type": "code",
   "execution_count": 6,
   "metadata": {},
   "outputs": [
    {
     "name": "stdout",
     "output_type": "stream",
     "text": [
      "['Actin', 'CUB', 'Collagen', 'EGF_CA', 'F5_F8_type_C', 'I-set', 'Ig_2', 'Ig_3', 'Laminin_G_2', 'Laminin_G_3', 'Ldl_recept_a', 'TSP_1', 'Trypsin', 'VWA', 'VWD', 'ig']\n"
     ]
    }
   ],
   "source": [
    "# unique domains found between all five phyla\n",
    "print(sorted(AllPhyla))"
   ]
  },
  {
   "cell_type": "code",
   "execution_count": 7,
   "metadata": {},
   "outputs": [
    {
     "data": {
      "text/plain": [
       "16"
      ]
     },
     "execution_count": 7,
     "metadata": {},
     "output_type": "execute_result"
    }
   ],
   "source": [
    "len(AllPhyla)"
   ]
  },
  {
   "cell_type": "code",
   "execution_count": 8,
   "metadata": {},
   "outputs": [
    {
     "name": "stdout",
     "output_type": "stream",
     "text": [
      "['7tm_2', 'ADIP', 'ATP-gua_Ptrans', 'ATP-gua_PtransN', 'ATP-synt_ab_Xtn', 'Amino_oxidase', 'ApoO', 'Atg14', 'Beta-lactamase', 'BiPBP_C', 'Big_1', 'Big_3', 'CBM_2', 'CHB_HEX', 'Calponin', 'Calreticulin', 'Calsequestrin', 'Collagen_mid', 'Copine', 'Cu_amine_oxid', 'Cyt-b5', 'DSL', 'DUF11', 'DUF3105', 'DUF4749', 'EB', 'Ependymin', 'GHL10', 'GMC_oxred_C', 'GMC_oxred_N', 'Gal_Lectin', 'Glyco_hydro_20', 'Glyco_hydro_20b', 'Glyco_hydro_9', 'HR1', 'Hyd_WA', 'Ig_4', 'Kinase-like', 'LPMO_10', 'Lipocalin_7', 'Lustrin_cystein', 'Methyltransf_FA', 'NAD_binding_8', 'NPDC1', 'PBP', 'PEPCK_C', 'PEPCK_N', 'PHD', 'PT', 'Pep_M12B_propep', 'Peptidase_M2', 'Phasin_2', 'Pkinase_C', 'Polysacc_deac_1', 'Reprolysin', 'Reprolysin_2', 'Reprolysin_3', 'Reprolysin_4', 'Reprolysin_5', 'Ribonuc_L-PSP', 'SOUL', 'ShK', 'Str_synth', 'Tissue_fac', 'vWA-TerF-like', 'zf-HC5HC2H']\n"
     ]
    }
   ],
   "source": [
    "# mollusc unique domains\n",
    "print(sorted(Muniq))"
   ]
  },
  {
   "cell_type": "code",
   "execution_count": 9,
   "metadata": {},
   "outputs": [
    {
     "data": {
      "text/plain": [
       "66"
      ]
     },
     "execution_count": 9,
     "metadata": {},
     "output_type": "execute_result"
    }
   ],
   "source": [
    "len(Muniq)"
   ]
  },
  {
   "cell_type": "code",
   "execution_count": 10,
   "metadata": {},
   "outputs": [
    {
     "name": "stdout",
     "output_type": "stream",
     "text": [
      "['APG6', 'Bravo_FIGEY', 'CENP-F_leu_zip', 'DUF3861', 'DUF969', 'Fez1', 'IncA', 'LEA_4', 'PKD_channel', 'PLAT', 'REJ', 'Reo_sigmaC', 'Trefoil']\n"
     ]
    }
   ],
   "source": [
    "# cnidarian unique domains\n",
    "print(sorted(Cuniq))"
   ]
  },
  {
   "cell_type": "code",
   "execution_count": 11,
   "metadata": {},
   "outputs": [
    {
     "data": {
      "text/plain": [
       "13"
      ]
     },
     "execution_count": 11,
     "metadata": {},
     "output_type": "execute_result"
    }
   ],
   "source": [
    "len(Cuniq)"
   ]
  },
  {
   "cell_type": "code",
   "execution_count": 12,
   "metadata": {},
   "outputs": [
    {
     "name": "stdout",
     "output_type": "stream",
     "text": [
      "['7tm_3', 'ANF_receptor', 'Alg6_Alg8', 'BBE', 'CHGN', 'Ceramidase_alk', 'Ceramidse_alk_C', 'Conotoxin_I2', 'FAD_binding_4', 'GSHPx', 'Glyco_transf_7C', 'Glyco_transf_7N', 'Hormone_recep', 'PSP94', 'Parvo_coat_N', 'Peripla_BP_6', 'SQHop_cyclase_C', 'UPF0506', 'VWA_CoxE', 'zf-C4']\n"
     ]
    }
   ],
   "source": [
    "# brachiopod unique domains\n",
    "print(sorted(Buniq))"
   ]
  },
  {
   "cell_type": "code",
   "execution_count": 13,
   "metadata": {},
   "outputs": [
    {
     "data": {
      "text/plain": [
       "20"
      ]
     },
     "execution_count": 13,
     "metadata": {},
     "output_type": "execute_result"
    }
   ],
   "source": [
    "len(Buniq)"
   ]
  },
  {
   "cell_type": "code",
   "execution_count": 14,
   "metadata": {},
   "outputs": [
    {
     "name": "stdout",
     "output_type": "stream",
     "text": [
      "['ADAM_spacer1', 'AMOP', 'Alpha-amylase', 'Alpha-amylase_C', 'Arf', 'Band_7', 'CENP-T_C', 'CHB_HEX_C_1', 'CLCA', 'Calx-beta', 'DZR', 'Destabilase', 'EphA2_TM', 'Ephrin_lbd', 'FAD_binding_8', 'Ferric_reduct', 'Ferritin', 'Flot', 'Fn3_assoc', 'Folate_rec', 'Furin-like_2', 'G-alpha', 'GSDH', 'Gtr1_RagA', 'His_Phos_2', 'Histone', 'Histone_H2A_C', 'Integrin_B_tail', 'Integrin_b_cyt', 'Integrin_beta', 'Linker_histone', 'MFS_1', 'MMR_HSR1', 'Muskelin_N', 'NAD_binding_6', 'PAN_1', 'PSI_integrin', 'Peptidase_M13', 'Pericardin_rpt', 'Pex19', 'Plexin_cytopl', 'Porin_3', 'RVT_1', 'Ras', 'Ribosomal_L40e', 'Roc', 'SRPRB', 'Sema', 'Shisa', 'Strumpellin', 'TAXi_C', 'Telomere_Sde2', 'Tetraspannin', 'XendoU', 'Y_phosphatase', 'YecR']\n"
     ]
    }
   ],
   "source": [
    "# echinoderm unique domains\n",
    "print(sorted(Euniq))"
   ]
  },
  {
   "cell_type": "code",
   "execution_count": 15,
   "metadata": {},
   "outputs": [
    {
     "data": {
      "text/plain": [
       "56"
      ]
     },
     "execution_count": 15,
     "metadata": {},
     "output_type": "execute_result"
    }
   ],
   "source": [
    "len(Euniq)"
   ]
  },
  {
   "cell_type": "code",
   "execution_count": 16,
   "metadata": {},
   "outputs": [
    {
     "name": "stdout",
     "output_type": "stream",
     "text": [
      "['A1_Propeptide', 'AAA_21', 'AAA_33', 'ABC2_membrane_3', 'ABC_tran', 'ADP_PFK_GK', 'AHSP', 'AIRC', 'ANAPC4_WD40', 'ANATO', 'ATP-synt_ab_C', 'Acylphosphatase', 'Amidohydro_1', 'Amidohydro_3', 'Apo-CII', 'ApoC-I', 'ApoM', 'Arylesterase', 'BASP1', 'BRICHOS', 'BSP_II', 'BTB_2', 'Band_3_cyto', 'C2-set', 'C4', 'CAMSAP_CH', 'CBFNT', 'COMP', 'CUB_2', 'CarbopepD_reg_2', 'Catalase', 'Catalase-rel', 'Cathelicidins', 'Clusterin', 'Cobalamin_bind', 'Cofilin_ADF', 'Cpn10', 'Cu-oxidase', 'Cys_knot', 'Cystatin', 'Cytochrom_C', 'DAN', 'DERM', 'DMP1', 'DUF1081', 'DUF1410', 'DUF1897', 'DUF2680', 'DUF2993', 'DUF3513', 'DUF4062', 'DUF4097', 'DUF4174', 'DUF4959', 'DUF4998', 'DUF945', 'Defensin_1', 'Defensin_propep', 'Dickkopf_N', 'E1_DerP2_DerF2', 'E1_dh', 'EFG_C', 'EFG_II', 'EFG_IV', 'EFhand_Ca_insen', 'EGF_2', 'EMI', 'ERM', 'ERp29_N', 'Epimerase', 'Evr1_Alr', 'FERM_C', 'FERM_M', 'FERM_N', 'FGF', 'FGF-BP1', 'FOLN', 'Fib_alpha', 'Fibin', 'Fibrinogen_aC', 'Filament_head', 'Fz', 'G2F', 'GDI', 'GST_C', 'GST_C_3', 'Gal-bind_lectin', 'Gla', 'Glutaredoxin', 'Glycolytic', 'Granin', 'HABP4_PAI-RBP1', 'HCO3_cotransp', 'HMG14_17', 'HMG_box', 'HMG_box_2', 'HSP20', 'Homeobox', 'IATP', 'IGFBP', 'IHABP4_N', 'IL17R_fnIII_D1', 'IL17R_fnIII_D2', 'IL8', 'ITI_HC_C', 'Insulin', 'Interfer-bind', 'KH_1', 'KH_2', 'KH_4', 'KR', 'LCCL', 'LEDGF', 'LRRCT', 'LRRNT', 'LRR_6', 'Laminin_I', 'Laminin_II', 'Laminin_N', 'Ldh_1_C', 'Ldh_1_N', 'Lipocalin', 'Lipocalin_2', 'Lys', 'Lysyl_oxidase', 'MARCKS', 'Matrilin_ccoil', 'Metallophos', 'Myosin_N', 'Myosin_head', 'NACHT', 'NAD_binding_10', 'NPM1-C', 'NmrA', 'NtA', 'Nucleoplasmin', 'OTOS', 'Osteopontin', 'Osteoregulin', 'PGK', 'PK', 'PK_C', 'PLA2G12', 'PRKCSH', 'PRKCSH-like', 'PRKCSH_1', 'PTN_MK_C', 'PTN_MK_N', 'PWWP', 'Pentapeptide_2', 'Peptidase_C1_2', 'Phosphodiest', 'Plasmod_Pvs28', 'Pox_TAA1', 'Prothymosin', 'RBM1CTR', 'ROKNT', 'RRM_1', 'RRM_7', 'Rib_recp_KP_reg', 'Ribosom_S12_S23', 'Ribosomal_60s', 'Ribosomal_L13e', 'Ribosomal_L14', 'Ribosomal_L23eN', 'Ribosomal_L31e', 'Ribosomal_L7Ae', 'Ribosomal_S19', 'Ribosomal_S19e', 'Ribosomal_S3_C', 'RnaseA', 'RsgA_GTPase', 'SAICAR_synt', 'SAP', 'SCP2', 'SEFIR', 'SGIII', 'SH3BGR', 'SH3_1', 'SH3_2', 'SH3_9', 'SPRY', 'S_100', 'SapA', 'Sclerostin', 'Serine_rich', 'Serum_albumin', 'Somatomedin_B', 'Spectrin', 'Spond_N', 'Spp-24', 'Stathmin', 'Sulfatase', 'Sushi_2', 'TAXi_N', 'TB', 'TEP1_N', 'TGF_beta', 'TGFb_propeptide', 'TIM', 'TROVE', 'TSP_3', 'TSP_C', 'Thrombin_light', 'Thymosin', 'Transket_pyr', 'Transketolase_C', 'Transketolase_N', 'Transthyretin', 'Tubulin-binding', 'UCMA', 'VIT', 'Vinculin', 'VitD-bind_III', 'WD40', 'Xlink', 'adh_short', 'adh_short_C2', 'eIF2A', 'fn1', 'p450', 'zf-RNPHF']\n"
     ]
    }
   ],
   "source": [
    "# vertebrate unique domains\n",
    "print(sorted(Vuniq))"
   ]
  },
  {
   "cell_type": "code",
   "execution_count": 17,
   "metadata": {},
   "outputs": [
    {
     "data": {
      "text/plain": [
       "222"
      ]
     },
     "execution_count": 17,
     "metadata": {},
     "output_type": "execute_result"
    }
   ],
   "source": [
    "len(Vuniq)"
   ]
  },
  {
   "cell_type": "code",
   "execution_count": 18,
   "metadata": {},
   "outputs": [],
   "source": [
    "# Mollusca, brachipod, echinoderm, vertebrates NOT cnidarians"
   ]
  },
  {
   "cell_type": "code",
   "execution_count": 19,
   "metadata": {},
   "outputs": [],
   "source": [
    "MBVEnoC = m.union(b,v,e)"
   ]
  },
  {
   "cell_type": "code",
   "execution_count": 20,
   "metadata": {},
   "outputs": [],
   "source": [
    "MBVEuniq = MBVEnoC.difference(c)"
   ]
  },
  {
   "cell_type": "code",
   "execution_count": 21,
   "metadata": {},
   "outputs": [
    {
     "data": {
      "text/plain": [
       "502"
      ]
     },
     "execution_count": 21,
     "metadata": {},
     "output_type": "execute_result"
    }
   ],
   "source": [
    "len(MBVEuniq)"
   ]
  },
  {
   "cell_type": "code",
   "execution_count": 22,
   "metadata": {},
   "outputs": [
    {
     "name": "stdout",
     "output_type": "stream",
     "text": [
      "['1-cysPrx_C', '14-3-3', '7tm_2', '7tm_3', 'A1_Propeptide', 'A2M', 'A2M_N', 'A2M_N_2', 'A2M_comp', 'A2M_recep', 'AAA_21', 'AAA_33', 'ABC2_membrane_3', 'ABC_tran', 'ADAM_spacer1', 'ADIP', 'ADP_PFK_GK', 'AHSP', 'AIRC', 'AMOP', 'ANAPC4_WD40', 'ANATO', 'ANF_receptor', 'ATP-gua_Ptrans', 'ATP-gua_PtransN', 'ATP-synt_ab', 'ATP-synt_ab_C', 'ATP-synt_ab_N', 'ATP-synt_ab_Xtn', 'Acylphosphatase', 'AhpC-TSA', 'Alg6_Alg8', 'Alk_phosphatase', 'Alpha-amylase', 'Alpha-amylase_C', 'Amidohydro_1', 'Amidohydro_3', 'Amino_oxidase', 'An_peroxidase', 'Ank_2', 'Annexin', 'Antistasin', 'Apo-CII', 'ApoC-I', 'ApoLp-III', 'ApoM', 'ApoO', 'Arf', 'Arylesterase', 'Asp', 'Astacin', 'Atg14', 'BASP1', 'BBE', 'BRICHOS', 'BSP_II', 'BTB_2', 'Band_3_cyto', 'Band_7', 'Beta-lactamase', 'BiPBP_C', 'Big_1', 'Big_3', 'Big_3_5', 'C1-set', 'C1q', 'C2-set', 'C4', 'C8', 'CAMSAP_CH', 'CBFNT', 'CBM_14', 'CBM_2', 'CENP-T_C', 'CH', 'CHB_HEX', 'CHB_HEX_C_1', 'CHGN', 'CLCA', 'COMP', 'CUB_2', 'Calponin', 'Calreticulin', 'Calsequestrin', 'Calx-beta', 'CarbopepD_reg_2', 'CarboxypepD_reg', 'Catalase', 'Catalase-rel', 'Cathelicidins', 'Ceramidase_alk', 'Ceramidse_alk_C', 'Clusterin', 'Cobalamin_bind', 'Cofilin_ADF', 'Collagen_mid', 'Conotoxin_I2', 'Copine', 'Cpn10', 'Cpn60_TCP1', 'Cu-oxidase', 'Cu2_monoox_C', 'Cu2_monooxygen', 'Cu_amine_oxid', 'Cys_knot', 'Cystatin', 'Cyt-b5', 'Cytochrom_C', 'DAN', 'DERM', 'DMP1', 'DOMON', 'DSL', 'DUF1081', 'DUF11', 'DUF1410', 'DUF1897', 'DUF2369', 'DUF2680', 'DUF2993', 'DUF3105', 'DUF3513', 'DUF4062', 'DUF4097', 'DUF4174', 'DUF4430', 'DUF4749', 'DUF4959', 'DUF4998', 'DUF5050', 'DUF5060', 'DUF945', 'DZR', 'Death', 'Defensin_1', 'Defensin_propep', 'Destabilase', 'Dickkopf_N', 'E1_DerP2_DerF2', 'E1_dh', 'EB', 'EF-hand_1', 'EF-hand_4', 'EF-hand_5', 'EF-hand_6', 'EF-hand_7', 'EF-hand_8', 'EF-hand_9', 'EFG_C', 'EFG_II', 'EFG_IV', 'EFhand_Ca_insen', 'EGF', 'EGF_2', 'EGF_3', 'EMI', 'ERAP1_C', 'ERM', 'ERp29_N', 'Enolase_C', 'Enolase_N', 'Ependymin', 'EphA2_TM', 'Ephrin_lbd', 'Ephrin_rec_like', 'Epimerase', 'Evr1_Alr', 'FAD_binding_4', 'FAD_binding_8', 'FERM_C', 'FERM_M', 'FERM_N', 'FGF', 'FGF-BP1', 'FKBP_C', 'FOLN', 'Fasciclin', 'Ferric_reduct', 'Ferritin', 'Fib_alpha', 'Fibin', 'Fibrinogen_C', 'Fibrinogen_aC', 'Filament', 'Filament_head', 'Filamin', 'Flot', 'Fn3_assoc', 'Folate_rec', 'Furin-like_2', 'Fz', 'G-alpha', 'G2F', 'GDI', 'GHL10', 'GMC_oxred_C', 'GMC_oxred_N', 'GSDH', 'GSHPx', 'GST_C', 'GST_C_3', 'GTP_EFTU', 'GTP_EFTU_D2', 'GTP_EFTU_D3', 'Gal-bind_lectin', 'Gal_Lectin', 'Gelsolin', 'Gla', 'Globin', 'Glutaredoxin', 'Glyco_hydro_18', 'Glyco_hydro_20', 'Glyco_hydro_20b', 'Glyco_hydro_9', 'Glyco_transf_7C', 'Glyco_transf_7N', 'Glycolytic', 'Gp_dh_C', 'Granin', 'Gtr1_RagA', 'HABP4_PAI-RBP1', 'HATPase_c', 'HATPase_c_3', 'HCO3_cotransp', 'HMG14_17', 'HMG_box', 'HMG_box_2', 'HR1', 'HSP20', 'HSP70', 'HSP90', 'HYR', 'Hemopexin', 'His_Phos_2', 'Histone', 'Histone_H2A_C', 'Homeobox', 'Hormone_recep', 'Hyd_WA', 'IATP', 'IGFBP', 'IHABP4_N', 'IL17R_fnIII_D1', 'IL17R_fnIII_D2', 'IL8', 'ITI_HC_C', 'IgGFc_binding', 'Ig_4', 'Inhibitor_I29', 'Insulin', 'Integrin_B_tail', 'Integrin_b_cyt', 'Integrin_beta', 'Interfer-bind', 'Izumo-Ig', 'KH_1', 'KH_2', 'KH_4', 'KR', 'Kazal_1', 'Kazal_2', 'Kinase-like', 'Kringle', 'Kunitz_BPTI', 'LCCL', 'LEDGF', 'LPMO_10', 'LRRCT', 'LRRNT', 'LRR_1', 'LRR_4', 'LRR_5', 'LRR_6', 'LRR_8', 'LRR_9', 'LTD', 'Laminin_B', 'Laminin_EGF', 'Laminin_I', 'Laminin_II', 'Laminin_N', 'Ldh_1_C', 'Ldh_1_N', 'Ldl_recept_b', 'Lectin_C', 'Linker_histone', 'Lipocalin', 'Lipocalin_2', 'Lipocalin_7', 'Lustrin_cystein', 'Lys', 'Lysyl_oxidase', 'MARCKS', 'MFS_1', 'MMR_HSR1', 'MR_MLE_C', 'Matrilin_ccoil', 'Metallophos', 'Methyltransf_FA', 'MreB_Mbl', 'Mucin2_WxxW', 'Muskelin_N', 'Myosin_N', 'Myosin_head', 'Myosin_tail_1', 'NACHT', 'NAD_binding_10', 'NAD_binding_6', 'NAD_binding_8', 'NPDC1', 'NPM1-C', 'NTR', 'NmrA', 'NtA', 'Nucleoplasmin', 'OLF', 'OST3_OST6', 'OTOS', 'Osteopontin', 'Osteoregulin', 'PAN_1', 'PBP', 'PDZ', 'PDZ_2', 'PEPCK_C', 'PEPCK_N', 'PGK', 'PG_binding_1', 'PHD', 'PK', 'PK_C', 'PLA2G12', 'PRKCSH', 'PRKCSH-like', 'PRKCSH_1', 'PSI_integrin', 'PSP94', 'PT', 'PTN_MK_C', 'PTN_MK_N', 'PWWP', 'Pacifastin_I', 'Parvo_coat_N', 'Pentapeptide_2', 'Pentaxin', 'Pep_M12B_propep', 'Peptidase_C1', 'Peptidase_C1_2', 'Peptidase_M1', 'Peptidase_M10', 'Peptidase_M13', 'Peptidase_M14', 'Peptidase_M2', 'Peptidase_M28', 'Pericardin_rpt', 'Peripla_BP_6', 'Pex19', 'Phasin_2', 'Phosphodiest', 'Phospholip_A2_1', 'Pkinase_C', 'Plasmod_Pvs28', 'Plexin_cytopl', 'Polysacc_deac_1', 'Porin_3', 'Pox_TAA1', 'Pro_isomerase', 'Prothymosin', 'Pur_ac_phosph_N', 'RBM1CTR', 'ROKNT', 'RRM_1', 'RRM_7', 'RVT_1', 'Ras', 'Receptor_2B4', 'Redoxin', 'Reeler', 'Reprolysin', 'Reprolysin_2', 'Reprolysin_3', 'Reprolysin_4', 'Reprolysin_5', 'Rib_recp_KP_reg', 'Ribonuc_L-PSP', 'Ribonuclease_T2', 'Ribosom_S12_S23', 'Ribosomal_60s', 'Ribosomal_L13e', 'Ribosomal_L14', 'Ribosomal_L23', 'Ribosomal_L23eN', 'Ribosomal_L31e', 'Ribosomal_L40e', 'Ribosomal_L7Ae', 'Ribosomal_S19', 'Ribosomal_S19e', 'Ribosomal_S27', 'Ribosomal_S3_C', 'RnaseA', 'Roc', 'RsgA_GTPase', 'SAICAR_synt', 'SAM_1', 'SAM_2', 'SAP', 'SCP2', 'SEA', 'SEFIR', 'SGIII', 'SGL', 'SH3BGR', 'SH3_1', 'SH3_2', 'SH3_9', 'SOUL', 'SPARC_Ca_bdg', 'SPRY', 'SQHop_cyclase_C', 'SRCR', 'SRCR_2', 'SRPRB', 'S_100', 'SapA', 'SapB_1', 'SapB_2', 'Sclerostin', 'Sema', 'Serine_rich', 'Serpin', 'Serum_albumin', 'ShK', 'Shisa', 'Somatomedin_B', 'Spectrin', 'Spond_N', 'Spp-24', 'Stathmin', 'Str_synth', 'Strumpellin', 'Sulfatase', 'Sushi', 'Sushi_2', 'TAXi_C', 'TAXi_N', 'TB', 'TEP1_N', 'TGF_beta', 'TGFb_propeptide', 'TIL', 'TILa', 'TIM', 'TIMP', 'TNFR_c6', 'TROVE', 'TSP_3', 'TSP_C', 'Telomere_Sde2', 'Tetraspannin', 'Thiol-ester_cl', 'Thioredoxin', 'Thioredoxin_2', 'Thioredoxin_6', 'Thioredoxin_7', 'Thioredoxin_8', 'Thrombin_light', 'Thymosin', 'Thyroglobulin_1', 'Tissue_fac', 'Transket_pyr', 'Transketolase_C', 'Transketolase_N', 'Transthyretin', 'Trypsin_2', 'Tubulin-binding', 'Tyrosinase', 'UCMA', 'UPF0506', 'VIT', 'VWA_CoxE', 'Vinculin', 'VitD-bind_III', 'WAP', 'WD40', 'XendoU', 'Xlink', 'Y_Y_Y', 'Y_phosphatase', 'YecR', 'YtkA', 'Zip', 'adh_short', 'adh_short_C2', 'eIF2A', 'fn1', 'fn3_2', 'hEGF', 'p450', 'vWA-TerF-like', 'zf-C4', 'zf-HC5HC2H', 'zf-RNPHF']\n"
     ]
    }
   ],
   "source": [
    "print(sorted(MBVEuniq))"
   ]
  },
  {
   "cell_type": "code",
   "execution_count": 23,
   "metadata": {},
   "outputs": [],
   "source": [
    "# Mollusca, brachipod NOT cnidarians, vertebrates, echinoderms"
   ]
  },
  {
   "cell_type": "code",
   "execution_count": 24,
   "metadata": {},
   "outputs": [],
   "source": [
    "MBnoCEV = m.union(b)"
   ]
  },
  {
   "cell_type": "code",
   "execution_count": 25,
   "metadata": {},
   "outputs": [],
   "source": [
    "MBuniq = MBnoCEV.difference(c,e,v)"
   ]
  },
  {
   "cell_type": "code",
   "execution_count": 26,
   "metadata": {},
   "outputs": [
    {
     "data": {
      "text/plain": [
       "93"
      ]
     },
     "execution_count": 26,
     "metadata": {},
     "output_type": "execute_result"
    }
   ],
   "source": [
    "len(MBuniq)"
   ]
  },
  {
   "cell_type": "code",
   "execution_count": 27,
   "metadata": {},
   "outputs": [
    {
     "name": "stdout",
     "output_type": "stream",
     "text": [
      "['7tm_2', '7tm_3', 'ADIP', 'ANF_receptor', 'ATP-gua_Ptrans', 'ATP-gua_PtransN', 'ATP-synt_ab_Xtn', 'Alg6_Alg8', 'Amino_oxidase', 'ApoO', 'Atg14', 'BBE', 'Beta-lactamase', 'BiPBP_C', 'Big_1', 'Big_3', 'CBM_14', 'CBM_2', 'CHB_HEX', 'CHGN', 'Calponin', 'Calreticulin', 'Calsequestrin', 'Ceramidase_alk', 'Ceramidse_alk_C', 'Collagen_mid', 'Conotoxin_I2', 'Copine', 'Cu2_monoox_C', 'Cu2_monooxygen', 'Cu_amine_oxid', 'Cyt-b5', 'DOMON', 'DSL', 'DUF11', 'DUF3105', 'DUF4749', 'EB', 'Ependymin', 'FAD_binding_4', 'GHL10', 'GMC_oxred_C', 'GMC_oxred_N', 'GSHPx', 'Gal_Lectin', 'Glyco_hydro_18', 'Glyco_hydro_20', 'Glyco_hydro_20b', 'Glyco_hydro_9', 'Glyco_transf_7C', 'Glyco_transf_7N', 'HR1', 'Hormone_recep', 'Hyd_WA', 'Ig_4', 'Kinase-like', 'LPMO_10', 'Lipocalin_7', 'Lustrin_cystein', 'Methyltransf_FA', 'NAD_binding_8', 'NPDC1', 'PBP', 'PEPCK_C', 'PEPCK_N', 'PHD', 'PSP94', 'PT', 'Parvo_coat_N', 'Pep_M12B_propep', 'Peptidase_M2', 'Peripla_BP_6', 'Phasin_2', 'Pkinase_C', 'Polysacc_deac_1', 'Reprolysin', 'Reprolysin_2', 'Reprolysin_3', 'Reprolysin_4', 'Reprolysin_5', 'Ribonuc_L-PSP', 'SOUL', 'SQHop_cyclase_C', 'ShK', 'Str_synth', 'TNFR_c6', 'Tissue_fac', 'Tyrosinase', 'UPF0506', 'VWA_CoxE', 'vWA-TerF-like', 'zf-C4', 'zf-HC5HC2H']\n"
     ]
    }
   ],
   "source": [
    "print(sorted(MBuniq))"
   ]
  },
  {
   "cell_type": "code",
   "execution_count": 28,
   "metadata": {},
   "outputs": [],
   "source": [
    "# vertebrates, echinoderms NOT mollusca, brachipod, cnidarians"
   ]
  },
  {
   "cell_type": "code",
   "execution_count": 29,
   "metadata": {},
   "outputs": [],
   "source": [
    "EVnoMBC = e.union(v)"
   ]
  },
  {
   "cell_type": "code",
   "execution_count": 30,
   "metadata": {},
   "outputs": [],
   "source": [
    "EVuniq = EVnoMBC.difference(m,b,c)"
   ]
  },
  {
   "cell_type": "code",
   "execution_count": 31,
   "metadata": {},
   "outputs": [
    {
     "name": "stdout",
     "output_type": "stream",
     "text": [
      "['A1_Propeptide', 'AAA_21', 'AAA_33', 'ABC2_membrane_3', 'ABC_tran', 'ADAM_spacer1', 'ADP_PFK_GK', 'AHSP', 'AIRC', 'AMOP', 'ANAPC4_WD40', 'ANATO', 'ATP-synt_ab_C', 'Acylphosphatase', 'Alpha-amylase', 'Alpha-amylase_C', 'Amidohydro_1', 'Amidohydro_3', 'Annexin', 'Apo-CII', 'ApoC-I', 'ApoM', 'Arf', 'Arylesterase', 'Asp', 'BASP1', 'BRICHOS', 'BSP_II', 'BTB_2', 'Band_3_cyto', 'Band_7', 'C2-set', 'C4', 'CAMSAP_CH', 'CBFNT', 'CENP-T_C', 'CHB_HEX_C_1', 'CLCA', 'COMP', 'CUB_2', 'Calx-beta', 'CarbopepD_reg_2', 'Catalase', 'Catalase-rel', 'Cathelicidins', 'Clusterin', 'Cobalamin_bind', 'Cofilin_ADF', 'Cpn10', 'Cpn60_TCP1', 'Cu-oxidase', 'Cys_knot', 'Cystatin', 'Cytochrom_C', 'DAN', 'DERM', 'DMP1', 'DUF1081', 'DUF1410', 'DUF1897', 'DUF2680', 'DUF2993', 'DUF3513', 'DUF4062', 'DUF4097', 'DUF4174', 'DUF4959', 'DUF4998', 'DUF5050', 'DUF945', 'DZR', 'Defensin_1', 'Defensin_propep', 'Destabilase', 'Dickkopf_N', 'E1_DerP2_DerF2', 'E1_dh', 'EFG_C', 'EFG_II', 'EFG_IV', 'EFhand_Ca_insen', 'EGF_2', 'EMI', 'ERM', 'ERp29_N', 'Enolase_N', 'EphA2_TM', 'Ephrin_lbd', 'Epimerase', 'Evr1_Alr', 'FAD_binding_8', 'FERM_C', 'FERM_M', 'FERM_N', 'FGF', 'FGF-BP1', 'FOLN', 'Fasciclin', 'Ferric_reduct', 'Ferritin', 'Fib_alpha', 'Fibin', 'Fibrinogen_aC', 'Filament_head', 'Flot', 'Fn3_assoc', 'Folate_rec', 'Furin-like_2', 'Fz', 'G-alpha', 'G2F', 'GDI', 'GSDH', 'GST_C', 'GST_C_3', 'Gal-bind_lectin', 'Gelsolin', 'Gla', 'Glutaredoxin', 'Glycolytic', 'Granin', 'Gtr1_RagA', 'HABP4_PAI-RBP1', 'HATPase_c', 'HATPase_c_3', 'HCO3_cotransp', 'HMG14_17', 'HMG_box', 'HMG_box_2', 'HSP20', 'HSP90', 'Hemopexin', 'His_Phos_2', 'Histone', 'Histone_H2A_C', 'Homeobox', 'IATP', 'IGFBP', 'IHABP4_N', 'IL17R_fnIII_D1', 'IL17R_fnIII_D2', 'IL8', 'ITI_HC_C', 'IgGFc_binding', 'Insulin', 'Integrin_B_tail', 'Integrin_b_cyt', 'Integrin_beta', 'Interfer-bind', 'KH_1', 'KH_2', 'KH_4', 'KR', 'Kazal_1', 'Kazal_2', 'Kringle', 'LCCL', 'LEDGF', 'LRRCT', 'LRRNT', 'LRR_1', 'LRR_4', 'LRR_5', 'LRR_6', 'LRR_8', 'LRR_9', 'Laminin_I', 'Laminin_II', 'Laminin_N', 'Ldh_1_C', 'Ldh_1_N', 'Ldl_recept_b', 'Linker_histone', 'Lipocalin', 'Lipocalin_2', 'Lys', 'Lysyl_oxidase', 'MARCKS', 'MFS_1', 'MMR_HSR1', 'Matrilin_ccoil', 'Metallophos', 'Muskelin_N', 'Myosin_N', 'Myosin_head', 'NACHT', 'NAD_binding_10', 'NAD_binding_6', 'NPM1-C', 'NmrA', 'NtA', 'Nucleoplasmin', 'OTOS', 'Osteopontin', 'Osteoregulin', 'PAN_1', 'PDZ_2', 'PGK', 'PG_binding_1', 'PK', 'PK_C', 'PLA2G12', 'PRKCSH', 'PRKCSH-like', 'PRKCSH_1', 'PSI_integrin', 'PTN_MK_C', 'PTN_MK_N', 'PWWP', 'Pentapeptide_2', 'Peptidase_C1_2', 'Peptidase_M10', 'Peptidase_M13', 'Peptidase_M14', 'Pericardin_rpt', 'Pex19', 'Phosphodiest', 'Plasmod_Pvs28', 'Plexin_cytopl', 'Porin_3', 'Pox_TAA1', 'Prothymosin', 'RBM1CTR', 'ROKNT', 'RRM_1', 'RRM_7', 'RVT_1', 'Ras', 'Rib_recp_KP_reg', 'Ribosom_S12_S23', 'Ribosomal_60s', 'Ribosomal_L13e', 'Ribosomal_L14', 'Ribosomal_L23', 'Ribosomal_L23eN', 'Ribosomal_L31e', 'Ribosomal_L40e', 'Ribosomal_L7Ae', 'Ribosomal_S19', 'Ribosomal_S19e', 'Ribosomal_S27', 'Ribosomal_S3_C', 'RnaseA', 'Roc', 'RsgA_GTPase', 'SAICAR_synt', 'SAP', 'SCP2', 'SEFIR', 'SGIII', 'SH3BGR', 'SH3_1', 'SH3_2', 'SH3_9', 'SPRY', 'SRPRB', 'S_100', 'SapA', 'Sclerostin', 'Sema', 'Serine_rich', 'Serum_albumin', 'Shisa', 'Somatomedin_B', 'Spectrin', 'Spond_N', 'Spp-24', 'Stathmin', 'Strumpellin', 'Sulfatase', 'Sushi_2', 'TAXi_C', 'TAXi_N', 'TB', 'TEP1_N', 'TGF_beta', 'TGFb_propeptide', 'TIM', 'TROVE', 'TSP_3', 'TSP_C', 'Telomere_Sde2', 'Tetraspannin', 'Thrombin_light', 'Thymosin', 'Transket_pyr', 'Transketolase_C', 'Transketolase_N', 'Transthyretin', 'Tubulin-binding', 'UCMA', 'VIT', 'Vinculin', 'VitD-bind_III', 'WD40', 'XendoU', 'Xlink', 'Y_phosphatase', 'YecR', 'adh_short', 'adh_short_C2', 'eIF2A', 'fn1', 'p450', 'zf-RNPHF']\n"
     ]
    }
   ],
   "source": [
    "print(sorted(EVuniq))"
   ]
  },
  {
   "cell_type": "code",
   "execution_count": 32,
   "metadata": {},
   "outputs": [
    {
     "data": {
      "text/plain": [
       "305"
      ]
     },
     "execution_count": 32,
     "metadata": {},
     "output_type": "execute_result"
    }
   ],
   "source": [
    "len(EVuniq)"
   ]
  },
  {
   "cell_type": "code",
   "execution_count": null,
   "metadata": {},
   "outputs": [],
   "source": []
  }
 ],
 "metadata": {
  "kernelspec": {
   "display_name": "Python 3",
   "language": "python",
   "name": "python3"
  },
  "language_info": {
   "codemirror_mode": {
    "name": "ipython",
    "version": 3
   },
   "file_extension": ".py",
   "mimetype": "text/x-python",
   "name": "python",
   "nbconvert_exporter": "python",
   "pygments_lexer": "ipython3",
   "version": "3.5.4"
  }
 },
 "nbformat": 4,
 "nbformat_minor": 2
}
