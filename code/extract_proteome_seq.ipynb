{
 "cells": [
  {
   "cell_type": "code",
   "execution_count": 4,
   "metadata": {},
   "outputs": [],
   "source": [
    "from Bio.SeqIO.FastaIO import SimpleFastaParser\n",
    "import pandas as pd\n",
    "import numpy as np"
   ]
  },
  {
   "cell_type": "code",
   "execution_count": 5,
   "metadata": {},
   "outputs": [],
   "source": [
    "with open('total.sequences.copy.fasta') as fasta_file:  # Will close handle cleanly\n",
    "    identifiers = []\n",
    "    aaseq = []\n",
    "    for title, sequence in SimpleFastaParser(fasta_file):\n",
    "        identifiers.append(title.split(None, 1)[0])  # First word is ID\n",
    "        aaseq.append(sequence)"
   ]
  },
  {
   "cell_type": "code",
   "execution_count": 7,
   "metadata": {},
   "outputs": [],
   "source": [
    "### convert list to series\n",
    "\n",
    "s1 = pd.Series(identifiers, name='ID')\n",
    "s2 = pd.Series(aaseq, name='length')"
   ]
  },
  {
   "cell_type": "code",
   "execution_count": 8,
   "metadata": {},
   "outputs": [
    {
     "data": {
      "text/plain": [
       "0    Spur_008305\n",
       "1    Spur_024343\n",
       "2    Spur_000379\n",
       "3    Spur_014715\n",
       "4    Spur_026629\n",
       "Name: ID, dtype: object"
      ]
     },
     "execution_count": 8,
     "metadata": {},
     "output_type": "execute_result"
    }
   ],
   "source": [
    "s1.head()"
   ]
  },
  {
   "cell_type": "code",
   "execution_count": 9,
   "metadata": {},
   "outputs": [
    {
     "data": {
      "text/plain": [
       "0    MAENADKPSAKGSTKAQENNMNSSLKDTDSKVTSPQNGSTNDSDNE...\n",
       "1    MPAKAQPAGKKGSKKAKAPRPSGGKKRRRRRKESYGIYIYKVLKQV...\n",
       "2    MAPKSRTDAQRRAGKKGPAVRESAAKVEARAEAKAKAKAKQDALKT...\n",
       "3    AIQYIQSIKGERGRAESETLDEDDLSPKHEFYDRLPDTEVIREVAE...\n",
       "4    MATIYRSTKSAKAPPCMYLCKTMLYHSPWASLIDVMPDCCERGASF...\n",
       "Name: length, dtype: object"
      ]
     },
     "execution_count": 9,
     "metadata": {},
     "output_type": "execute_result"
    }
   ],
   "source": [
    "s2.head()"
   ]
  },
  {
   "cell_type": "code",
   "execution_count": null,
   "metadata": {},
   "outputs": [],
   "source": [
    "df = pd.DataFrame({\"ID\": s1, \"Sequence\": [4, 5, 6]})"
   ]
  }
 ],
 "metadata": {
  "kernelspec": {
   "display_name": "Python 3",
   "language": "python",
   "name": "python3"
  },
  "language_info": {
   "codemirror_mode": {
    "name": "ipython",
    "version": 3
   },
   "file_extension": ".py",
   "mimetype": "text/x-python",
   "name": "python",
   "nbconvert_exporter": "python",
   "pygments_lexer": "ipython3",
   "version": "3.5.4"
  }
 },
 "nbformat": 4,
 "nbformat_minor": 2
}
