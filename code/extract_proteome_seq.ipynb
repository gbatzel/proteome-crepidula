{
 "cells": [
  {
   "cell_type": "code",
   "execution_count": 1,
   "metadata": {},
   "outputs": [],
   "source": [
    "from Bio.SeqIO.FastaIO import SimpleFastaParser\n",
    "import pandas as pd\n",
    "import numpy as np"
   ]
  },
  {
   "cell_type": "code",
   "execution_count": 2,
   "metadata": {},
   "outputs": [],
   "source": [
    "with open('total.sequences.copy.fasta') as fasta_file:  # Will close handle cleanly\n",
    "    identifiers = []\n",
    "    aaseq = []\n",
    "    for title, sequence in SimpleFastaParser(fasta_file):\n",
    "        identifiers.append(title.split(None, 1)[0])  # First word is ID\n",
    "        aaseq.append(sequence)"
   ]
  },
  {
   "cell_type": "code",
   "execution_count": 3,
   "metadata": {},
   "outputs": [],
   "source": [
    "### convert list to series\n",
    "\n",
    "s1 = pd.Series(identifiers, name='ID')\n",
    "s2 = pd.Series(aaseq, name='length')"
   ]
  },
  {
   "cell_type": "code",
   "execution_count": 4,
   "metadata": {},
   "outputs": [
    {
     "data": {
      "text/plain": [
       "0    Spur_008305\n",
       "1    Spur_024343\n",
       "2    Spur_000379\n",
       "3    Spur_014715\n",
       "4    Spur_026629\n",
       "Name: ID, dtype: object"
      ]
     },
     "execution_count": 4,
     "metadata": {},
     "output_type": "execute_result"
    }
   ],
   "source": [
    "s1.head()"
   ]
  },
  {
   "cell_type": "code",
   "execution_count": 5,
   "metadata": {},
   "outputs": [
    {
     "data": {
      "text/plain": [
       "0    MAENADKPSAKGSTKAQENNMNSSLKDTDSKVTSPQNGSTNDSDNE...\n",
       "1    MPAKAQPAGKKGSKKAKAPRPSGGKKRRRRRKESYGIYIYKVLKQV...\n",
       "2    MAPKSRTDAQRRAGKKGPAVRESAAKVEARAEAKAKAKAKQDALKT...\n",
       "3    AIQYIQSIKGERGRAESETLDEDDLSPKHEFYDRLPDTEVIREVAE...\n",
       "4    MATIYRSTKSAKAPPCMYLCKTMLYHSPWASLIDVMPDCCERGASF...\n",
       "Name: length, dtype: object"
      ]
     },
     "execution_count": 5,
     "metadata": {},
     "output_type": "execute_result"
    }
   ],
   "source": [
    "s2.head()"
   ]
  },
  {
   "cell_type": "code",
   "execution_count": 6,
   "metadata": {},
   "outputs": [],
   "source": [
    "df = pd.DataFrame({\"ID\": s1, \"Sequence\": s2})"
   ]
  },
  {
   "cell_type": "code",
   "execution_count": 7,
   "metadata": {},
   "outputs": [
    {
     "data": {
      "text/html": [
       "<div>\n",
       "<style scoped>\n",
       "    .dataframe tbody tr th:only-of-type {\n",
       "        vertical-align: middle;\n",
       "    }\n",
       "\n",
       "    .dataframe tbody tr th {\n",
       "        vertical-align: top;\n",
       "    }\n",
       "\n",
       "    .dataframe thead th {\n",
       "        text-align: right;\n",
       "    }\n",
       "</style>\n",
       "<table border=\"1\" class=\"dataframe\">\n",
       "  <thead>\n",
       "    <tr style=\"text-align: right;\">\n",
       "      <th></th>\n",
       "      <th>ID</th>\n",
       "      <th>Sequence</th>\n",
       "    </tr>\n",
       "  </thead>\n",
       "  <tbody>\n",
       "    <tr>\n",
       "      <th>0</th>\n",
       "      <td>Spur_008305</td>\n",
       "      <td>MAENADKPSAKGSTKAQENNMNSSLKDTDSKVTSPQNGSTNDSDNE...</td>\n",
       "    </tr>\n",
       "    <tr>\n",
       "      <th>1</th>\n",
       "      <td>Spur_024343</td>\n",
       "      <td>MPAKAQPAGKKGSKKAKAPRPSGGKKRRRRRKESYGIYIYKVLKQV...</td>\n",
       "    </tr>\n",
       "    <tr>\n",
       "      <th>2</th>\n",
       "      <td>Spur_000379</td>\n",
       "      <td>MAPKSRTDAQRRAGKKGPAVRESAAKVEARAEAKAKAKAKQDALKT...</td>\n",
       "    </tr>\n",
       "    <tr>\n",
       "      <th>3</th>\n",
       "      <td>Spur_014715</td>\n",
       "      <td>AIQYIQSIKGERGRAESETLDEDDLSPKHEFYDRLPDTEVIREVAE...</td>\n",
       "    </tr>\n",
       "    <tr>\n",
       "      <th>4</th>\n",
       "      <td>Spur_026629</td>\n",
       "      <td>MATIYRSTKSAKAPPCMYLCKTMLYHSPWASLIDVMPDCCERGASF...</td>\n",
       "    </tr>\n",
       "  </tbody>\n",
       "</table>\n",
       "</div>"
      ],
      "text/plain": [
       "            ID                                           Sequence\n",
       "0  Spur_008305  MAENADKPSAKGSTKAQENNMNSSLKDTDSKVTSPQNGSTNDSDNE...\n",
       "1  Spur_024343  MPAKAQPAGKKGSKKAKAPRPSGGKKRRRRRKESYGIYIYKVLKQV...\n",
       "2  Spur_000379  MAPKSRTDAQRRAGKKGPAVRESAAKVEARAEAKAKAKAKQDALKT...\n",
       "3  Spur_014715  AIQYIQSIKGERGRAESETLDEDDLSPKHEFYDRLPDTEVIREVAE...\n",
       "4  Spur_026629  MATIYRSTKSAKAPPCMYLCKTMLYHSPWASLIDVMPDCCERGASF..."
      ]
     },
     "execution_count": 7,
     "metadata": {},
     "output_type": "execute_result"
    }
   ],
   "source": [
    "df.head()"
   ]
  },
  {
   "cell_type": "code",
   "execution_count": 8,
   "metadata": {},
   "outputs": [],
   "source": [
    "df2 = df[df.ID.str.contains('^Spur')]"
   ]
  },
  {
   "cell_type": "code",
   "execution_count": 9,
   "metadata": {},
   "outputs": [
    {
     "data": {
      "text/html": [
       "<div>\n",
       "<style scoped>\n",
       "    .dataframe tbody tr th:only-of-type {\n",
       "        vertical-align: middle;\n",
       "    }\n",
       "\n",
       "    .dataframe tbody tr th {\n",
       "        vertical-align: top;\n",
       "    }\n",
       "\n",
       "    .dataframe thead th {\n",
       "        text-align: right;\n",
       "    }\n",
       "</style>\n",
       "<table border=\"1\" class=\"dataframe\">\n",
       "  <thead>\n",
       "    <tr style=\"text-align: right;\">\n",
       "      <th></th>\n",
       "      <th>ID</th>\n",
       "      <th>Sequence</th>\n",
       "    </tr>\n",
       "  </thead>\n",
       "  <tbody>\n",
       "    <tr>\n",
       "      <th>0</th>\n",
       "      <td>Spur_008305</td>\n",
       "      <td>MAENADKPSAKGSTKAQENNMNSSLKDTDSKVTSPQNGSTNDSDNE...</td>\n",
       "    </tr>\n",
       "    <tr>\n",
       "      <th>1</th>\n",
       "      <td>Spur_024343</td>\n",
       "      <td>MPAKAQPAGKKGSKKAKAPRPSGGKKRRRRRKESYGIYIYKVLKQV...</td>\n",
       "    </tr>\n",
       "    <tr>\n",
       "      <th>2</th>\n",
       "      <td>Spur_000379</td>\n",
       "      <td>MAPKSRTDAQRRAGKKGPAVRESAAKVEARAEAKAKAKAKQDALKT...</td>\n",
       "    </tr>\n",
       "    <tr>\n",
       "      <th>3</th>\n",
       "      <td>Spur_014715</td>\n",
       "      <td>AIQYIQSIKGERGRAESETLDEDDLSPKHEFYDRLPDTEVIREVAE...</td>\n",
       "    </tr>\n",
       "    <tr>\n",
       "      <th>4</th>\n",
       "      <td>Spur_026629</td>\n",
       "      <td>MATIYRSTKSAKAPPCMYLCKTMLYHSPWASLIDVMPDCCERGASF...</td>\n",
       "    </tr>\n",
       "  </tbody>\n",
       "</table>\n",
       "</div>"
      ],
      "text/plain": [
       "            ID                                           Sequence\n",
       "0  Spur_008305  MAENADKPSAKGSTKAQENNMNSSLKDTDSKVTSPQNGSTNDSDNE...\n",
       "1  Spur_024343  MPAKAQPAGKKGSKKAKAPRPSGGKKRRRRRKESYGIYIYKVLKQV...\n",
       "2  Spur_000379  MAPKSRTDAQRRAGKKGPAVRESAAKVEARAEAKAKAKAKQDALKT...\n",
       "3  Spur_014715  AIQYIQSIKGERGRAESETLDEDDLSPKHEFYDRLPDTEVIREVAE...\n",
       "4  Spur_026629  MATIYRSTKSAKAPPCMYLCKTMLYHSPWASLIDVMPDCCERGASF..."
      ]
     },
     "execution_count": 9,
     "metadata": {},
     "output_type": "execute_result"
    }
   ],
   "source": [
    "df2.head()"
   ]
  },
  {
   "cell_type": "code",
   "execution_count": 10,
   "metadata": {},
   "outputs": [],
   "source": [
    "spur_list = pd.Series.tolist(df2['ID'])"
   ]
  },
  {
   "cell_type": "code",
   "execution_count": 11,
   "metadata": {},
   "outputs": [],
   "source": [
    "spur_seq = pd.Series.tolist(df2['Sequence'])"
   ]
  },
  {
   "cell_type": "code",
   "execution_count": 12,
   "metadata": {},
   "outputs": [],
   "source": [
    "ofile = open(\"spur.txt\", \"w\")\n",
    "\n",
    "for i in range(len(spur_seq)):\n",
    "    ofile.write(\">\" + spur_list[i] + \"\\n\" +spur_seq[i] + \"\\n\")\n",
    "\n",
    "#do not forget to close it\n",
    "\n",
    "ofile.close()"
   ]
  },
  {
   "cell_type": "code",
   "execution_count": null,
   "metadata": {},
   "outputs": [],
   "source": []
  }
 ],
 "metadata": {
  "kernelspec": {
   "display_name": "Python 3",
   "language": "python",
   "name": "python3"
  },
  "language_info": {
   "codemirror_mode": {
    "name": "ipython",
    "version": 3
   },
   "file_extension": ".py",
   "mimetype": "text/x-python",
   "name": "python",
   "nbconvert_exporter": "python",
   "pygments_lexer": "ipython3",
   "version": "3.5.4"
  }
 },
 "nbformat": 4,
 "nbformat_minor": 2
}
